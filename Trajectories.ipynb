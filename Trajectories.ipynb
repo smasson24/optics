{
 "cells": [
  {
   "cell_type": "code",
   "execution_count": 152,
   "metadata": {},
   "outputs": [],
   "source": [
    "import pandas as pd\n",
    "import numpy as np\n",
    "import math\n",
    "import matplotlib.pyplot as plt\n"
   ]
  },
  {
   "cell_type": "code",
   "execution_count": 4,
   "metadata": {},
   "outputs": [],
   "source": [
    "df = pd.read_excel(r'C:\\Users\\sarah\\OneDrive\\Documents\\EMM Nano\\Year 2\\Optics\\trajectories.xlsx', \"Sheet3\")\n"
   ]
  },
  {
   "cell_type": "code",
   "execution_count": 136,
   "metadata": {
    "scrolled": true
   },
   "outputs": [
    {
     "name": "stdout",
     "output_type": "stream",
     "text": [
      "         n  trajectory  frame         x         y  z\n",
      "0        1           1      0  1208.150     8.898  0\n",
      "1        2           1      1  1209.093     8.853  0\n",
      "2        3           1      2  1207.741     8.427  0\n",
      "3        4           1      3  1207.978     3.420  0\n",
      "4        5           1      4  1207.895     1.805  0\n",
      "...    ...         ...    ...       ...       ... ..\n",
      "8342  8343        1114      9   902.560  2502.476  0\n",
      "8343  8344        1115      8     8.549  2721.354  0\n",
      "8344  8345        1115      9     6.916  2716.872  0\n",
      "8345  8346        1116      8  1634.597  2857.547  0\n",
      "8346  8347        1116      9  1624.806  2856.102  0\n",
      "\n",
      "[8347 rows x 6 columns]\n"
     ]
    }
   ],
   "source": [
    "print(df)"
   ]
  },
  {
   "cell_type": "code",
   "execution_count": 137,
   "metadata": {},
   "outputs": [],
   "source": [
    "df_array = df.values"
   ]
  },
  {
   "cell_type": "code",
   "execution_count": 138,
   "metadata": {},
   "outputs": [],
   "source": [
    "frame = df.values[:,2]\n",
    "trajectory = df.values[:,1]\n",
    "xval = df.values[:,3]\n",
    "yval = df.values[:,4]"
   ]
  },
  {
   "cell_type": "code",
   "execution_count": 139,
   "metadata": {},
   "outputs": [],
   "source": [
    "size = 0\n",
    "for i in range(len(trajectory)-1):\n",
    "    if trajectory[i+1] == trajectory[i]:\n",
    "        size = size + 1\n",
    "\n",
    "xdisp = np.zeros(size)\n",
    "ydisp = np.zeros(size)"
   ]
  },
  {
   "cell_type": "code",
   "execution_count": 122,
   "metadata": {},
   "outputs": [],
   "source": [
    "n = 0\n",
    "for i in range(len(trajectory)-1):\n",
    "    if trajectory[i+1] == trajectory[i]:\n",
    "        xdisp[n] = xval[i+1]-xval[i]\n",
    "        ydisp[n] = yval[i+1]-yval[i]\n",
    "        n = n + 1\n",
    "        "
   ]
  },
  {
   "cell_type": "code",
   "execution_count": 123,
   "metadata": {},
   "outputs": [],
   "source": [
    "totaldisp = np.zeros(size)\n",
    "velocity = np.zeros(size)\n",
    "for i in range(size):\n",
    "    totaldisp[i] = math.sqrt((xdisp[i])**2 + (ydisp[i])**2)\n",
    "    velocity[i] = (totaldisp[i])/120 #units are pixels/second i think"
   ]
  },
  {
   "cell_type": "code",
   "execution_count": 148,
   "metadata": {},
   "outputs": [],
   "source": [
    "size = 0\n",
    "for i in range(len(trajectory)-1):\n",
    "    if trajectory[i+1] != trajectory[i]:\n",
    "        size = size + 1  "
   ]
  },
  {
   "cell_type": "code",
   "execution_count": 149,
   "metadata": {},
   "outputs": [],
   "source": [
    "avgvelocity = np.zeros(size)"
   ]
  },
  {
   "cell_type": "code",
   "execution_count": 150,
   "metadata": {},
   "outputs": [],
   "source": [
    "x = 0\n",
    "y = 0\n",
    "count = 0\n",
    "tempsum = 0\n",
    "for i in range(len(trajectory)-1):\n",
    "    if trajectory[i+1] == trajectory[i]:\n",
    "        tempsum = tempsum + velocity[x]\n",
    "        count = count + 1\n",
    "        x = x + 1\n",
    "    else:\n",
    "        avgvelocity[y] = tempsum/count\n",
    "        count = 0\n",
    "        tempsum = 0\n",
    "        y = y + 1"
   ]
  },
  {
   "cell_type": "code",
   "execution_count": 151,
   "metadata": {},
   "outputs": [
    {
     "data": {
      "text/plain": [
       "array([0.01656851, 0.02369754, 0.00378175, ..., 0.05481069, 0.0656915 ,\n",
       "       0.03975185])"
      ]
     },
     "execution_count": 151,
     "metadata": {},
     "output_type": "execute_result"
    }
   ],
   "source": [
    "avgvelocity #average velocity of each trajectory"
   ]
  },
  {
   "cell_type": "code",
   "execution_count": 155,
   "metadata": {},
   "outputs": [
    {
     "data": {
      "text/plain": [
       "(array([395., 213., 165., 145., 110.,  31.,  14.,   7.,  13.,  22.]),\n",
       " array([0.00047794, 0.01702571, 0.03357348, 0.05012126, 0.06666903,\n",
       "        0.0832168 , 0.09976457, 0.11631234, 0.13286012, 0.14940789,\n",
       "        0.16595566]),\n",
       " <BarContainer object of 10 artists>)"
      ]
     },
     "execution_count": 155,
     "metadata": {},
     "output_type": "execute_result"
    },
    {
     "data": {
      "image/png": "[encoded data removed]",
      "text/plain": [
       "<Figure size 432x288 with 1 Axes>"
      ]
     },
     "metadata": {
      "needs_background": "light"
     },
     "output_type": "display_data"
    }
   ],
   "source": [
    "plt.hist(avgvelocity)"
   ]
  },
  {
   "cell_type": "code",
   "execution_count": null,
   "metadata": {},
   "outputs": [],
   "source": []
  }
 ],
 "metadata": {
  "kernelspec": {
   "display_name": "Python 3",
   "language": "python",
   "name": "python3"
  },
  "language_info": {
   "codemirror_mode": {
    "name": "ipython",
    "version": 3
   },
   "file_extension": ".py",
   "mimetype": "text/x-python",
   "name": "python",
   "nbconvert_exporter": "python",
   "pygments_lexer": "ipython3",
   "version": "3.8.5"
  }
 },
 "nbformat": 4,
 "nbformat_minor": 4
}
